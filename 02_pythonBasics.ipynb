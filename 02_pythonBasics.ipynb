{
  "nbformat": 4,
  "nbformat_minor": 0,
  "metadata": {
    "colab": {
      "name": "02_pythonBasics.ipynb",
      "provenance": []
    },
    "kernelspec": {
      "name": "python3",
      "display_name": "Python 3"
    },
    "language_info": {
      "name": "python"
    }
  },
  "cells": [
    {
      "cell_type": "code",
      "execution_count": 7,
      "metadata": {
        "id": "29IeLFTvyrAB"
      },
      "outputs": [],
      "source": [
        "x=22"
      ]
    },
    {
      "cell_type": "code",
      "source": [
        "if x>10 :\n",
        "  print (\"x is greater than 10\")"
      ],
      "metadata": {
        "colab": {
          "base_uri": "https://localhost:8080/"
        },
        "id": "Y4S1-GJ00UF9",
        "outputId": "7d462ef2-790a-40b2-89d7-3a9ad4d2437d"
      },
      "execution_count": 10,
      "outputs": [
        {
          "output_type": "stream",
          "name": "stdout",
          "text": [
            "x is greater than 10\n"
          ]
        }
      ]
    },
    {
      "cell_type": "code",
      "source": [
        "x=20\n",
        "if x>10 :\n",
        " print(\"x greater than 10\")\n",
        "if x<10 :\n",
        " print(\"x less than 10\")"
      ],
      "metadata": {
        "colab": {
          "base_uri": "https://localhost:8080/"
        },
        "id": "_Vpgd6OH0_KK",
        "outputId": "1f3b7550-0b8d-460e-a5af-c4f6fa960866"
      },
      "execution_count": 16,
      "outputs": [
        {
          "output_type": "stream",
          "name": "stdout",
          "text": [
            "x greater than 10\n"
          ]
        }
      ]
    },
    {
      "cell_type": "code",
      "source": [
        "x==10\n",
        "if x>10 :\n",
        "  print(\"x grater than 10\")\n",
        "if x<=10 :\n",
        "  print(\"x less than 10\")\n",
        "if x==10 :\n",
        "  print(\"x is equal to 10\")"
      ],
      "metadata": {
        "colab": {
          "base_uri": "https://localhost:8080/"
        },
        "id": "YQh3NnIL369R",
        "outputId": "95b4affc-1207-46c2-9622-dd6a072a82e7"
      },
      "execution_count": 29,
      "outputs": [
        {
          "output_type": "stream",
          "name": "stdout",
          "text": [
            "x less than 10\n",
            "x is equal to 10\n"
          ]
        }
      ]
    },
    {
      "cell_type": "code",
      "source": [
        "x=int(input(\"enter the mark\"))\n",
        "if x>=40 :\n",
        "  print(\"pass\")\n",
        "if x<40 :\n",
        "  print(\"fail\")\n",
        "  \n",
        "  \n"
      ],
      "metadata": {
        "colab": {
          "base_uri": "https://localhost:8080/"
        },
        "id": "rXmLLhdi6ATP",
        "outputId": "de5d2b66-3996-429f-db9c-0e8409de857b"
      },
      "execution_count": 36,
      "outputs": [
        {
          "output_type": "stream",
          "name": "stdout",
          "text": [
            "enter the mark55\n",
            "pass\n"
          ]
        }
      ]
    },
    {
      "cell_type": "code",
      "source": [
        "x=int(input(\"enter your salary\"))\n",
        "if x>=250000 :\n",
        "  print(\"taxable\")\n",
        "  print(x*10/100)\n",
        "if x<250000 :\n",
        "  print(\"no tax\")"
      ],
      "metadata": {
        "colab": {
          "base_uri": "https://localhost:8080/"
        },
        "id": "Hg_rmcmEAGqp",
        "outputId": "60f5b43a-0790-4cbc-84cd-98aef5423b8a"
      },
      "execution_count": 37,
      "outputs": [
        {
          "output_type": "stream",
          "name": "stdout",
          "text": [
            "enter your salary300000\n",
            "taxable\n",
            "30000.0\n"
          ]
        }
      ]
    },
    {
      "cell_type": "code",
      "source": [
        ""
      ],
      "metadata": {
        "id": "IEW2gAu5DnWg"
      },
      "execution_count": null,
      "outputs": []
    }
  ]
}